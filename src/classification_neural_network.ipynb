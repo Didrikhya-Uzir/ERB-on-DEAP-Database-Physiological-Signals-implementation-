{
 "cells": [
  {
   "cell_type": "code",
   "execution_count": 1,
   "metadata": {},
   "outputs": [],
   "source": [
    "import pandas as pd\n",
    "import numpy as np\n",
    "import matplotlib.pyplot as plt\n",
    "from sklearn.metrics import accuracy_score, f1_score\n",
    "from sklearn.preprocessing import normalize\n",
    "from sklearn.model_selection import train_test_split\n",
    "from sklearn.model_selection import StratifiedKFold"
   ]
  },
  {
   "cell_type": "code",
   "execution_count": 2,
   "metadata": {},
   "outputs": [],
   "source": [
    "import torch\n",
    "from torch.utils.data import DataLoader\n",
    "import os\n",
    "import torch.nn as nn\n",
    "import time\n",
    "import copy\n",
    "from torch.optim import lr_scheduler\n",
    "from torch.utils.data import Dataset, random_split"
   ]
  },
  {
   "cell_type": "code",
   "execution_count": 3,
   "metadata": {},
   "outputs": [],
   "source": [
    "feats_val = pd.read_csv('valence_features_200.csv', index_col=0)\n",
    "feats_ar = pd.read_csv('arousal_features_200.csv', index_col=0)\n",
    "feats_dom = pd.read_csv('dominance_features_200.csv', index_col=0)\n",
    "feats_lik = pd.read_csv('liking_features_200.csv', index_col=0)\n",
    "\n",
    "targets = pd.read_csv('za_klasifikaciju.csv', index_col=0)"
   ]
  },
  {
   "cell_type": "code",
   "execution_count": 4,
   "metadata": {},
   "outputs": [],
   "source": [
    "targets = targets[['Valence', 'Arousal', 'Dominance', 'Liking']]\n",
    "targets[targets < 4.5] = 0\n",
    "targets[targets >= 4.5] = 1"
   ]
  },
  {
   "cell_type": "markdown",
   "metadata": {},
   "source": [
    "from sklearn.model_selection import cross_val_score\n",
    "from sklearn.model_selection import cross_validate"
   ]
  },
  {
   "cell_type": "markdown",
   "metadata": {},
   "source": [
    "from sklearn.preprocessing import StandardScaler\n",
    "\n",
    "scaler = StandardScaler()"
   ]
  },
  {
   "cell_type": "markdown",
   "metadata": {},
   "source": [
    "features_std = scaler.fit_transform(features)"
   ]
  },
  {
   "cell_type": "code",
   "execution_count": 5,
   "metadata": {},
   "outputs": [],
   "source": [
    "class EmotionsDataset(Dataset):\n",
    "\n",
    "    def __init__(self, features, classes):\n",
    "        #self.x = features.to_numpy()\n",
    "        self.x = features\n",
    "        self.y = classes.to_numpy()\n",
    "\n",
    "    def __len__(self):\n",
    "        return len(self.y)\n",
    "\n",
    "    def __getitem__(self, idx):\n",
    "        return [torch.from_numpy(self.x[idx,:]), torch.tensor(self.y[idx])]"
   ]
  },
  {
   "cell_type": "code",
   "execution_count": 6,
   "metadata": {},
   "outputs": [],
   "source": [
    "device = torch.device('cuda:0' if torch.cuda.is_available() else 'cpu')"
   ]
  },
  {
   "cell_type": "code",
   "execution_count": 11,
   "metadata": {
    "scrolled": true
   },
   "outputs": [
    {
     "name": "stdout",
     "output_type": "stream",
     "text": [
      "cpu\n"
     ]
    }
   ],
   "source": [
    "print(device)"
   ]
  },
  {
   "cell_type": "code",
   "execution_count": 7,
   "metadata": {},
   "outputs": [],
   "source": [
    "torch.manual_seed(999)\n",
    "\n",
    "def crossval_train(x, y, num_epochs, learning_rate, batch_size, num_classes, n_folds, verbose=True):\n",
    "\n",
    "    skf = StratifiedKFold(n_splits=n_folds, random_state=999, shuffle=True)\n",
    "    i_fold = 0\n",
    "    best_acc = np.zeros(n_folds)\n",
    "    best_f1 = np.zeros(n_folds)\n",
    "\n",
    "    start = time.time()\n",
    "\n",
    "    for train_index, test_index in skf.split(x, y):\n",
    "\n",
    "        #x_tr, x_val = x.iloc[train_index, :], x.iloc[test_index, :]\n",
    "        x_tr, x_val = x[train_index, :], x[test_index, :]\n",
    "        y_tr, y_val = y.iloc[train_index], y.iloc[test_index]\n",
    "\n",
    "        train_set = EmotionsDataset(x_tr, y_tr)\n",
    "        val_set = EmotionsDataset(x_val, y_val)\n",
    "\n",
    "        #labels_weights = [1, 0.5]\n",
    "        #weights_train = [labels_weights[int(yy)] for yy in y_tr]\n",
    "        #weights_val = [labels_weights[int(yy)] for yy in y_val]\n",
    "        #sampler_train = torch.utils.data.sampler.WeightedRandomSampler(weights_train, len(weights_train))\n",
    "        #sampler_val = torch.utils.data.sampler.WeightedRandomSampler(weights_val, len(weights_val))\n",
    "\n",
    "        train_loader = DataLoader(train_set, batch_size)\n",
    "        val_loader = DataLoader(val_set, batch_size)\n",
    "\n",
    "        data_loader = {'train':train_loader, 'val':val_loader}\n",
    "    \n",
    "        model = GospodinKlasifikator(num_classes).to(device)\n",
    "\n",
    "        criterion = nn.BCELoss()\n",
    "        optimizer = torch.optim.Adam(model.parameters(), lr = learning_rate)\n",
    "        scheduler = lr_scheduler.StepLR(optimizer, step_size=5, gamma=0.5)\n",
    "\n",
    "\n",
    "        running_loss = 0.0\n",
    "\n",
    "        for epoch in range(num_epochs):\n",
    "\n",
    "            for phase in ['train', 'val']:\n",
    "                if phase == 'train':\n",
    "                    model.train()\n",
    "                else:\n",
    "                    model.eval()\n",
    "\n",
    "                running_loss = 0.0   \n",
    "                running_tp = 0 \n",
    "                running_acc = 0\n",
    "                running_f1 = 0\n",
    "        \n",
    "                for i, (inputs, labels) in enumerate(data_loader[phase]):\n",
    "                    inputs = inputs.to(device)\n",
    "                    labels = labels.to(device)\n",
    "\n",
    "                    with torch.set_grad_enabled(phase=='train'):\n",
    "                        #forward\n",
    "                        output = model(inputs.float())\n",
    "                        preds = output[:, 1]\n",
    "                        loss = criterion(preds.float(), labels.float()[:])\n",
    "\n",
    "                        #backward\n",
    "                        optimizer.zero_grad()\n",
    "                        if phase == 'train':\n",
    "                            loss.backward()\n",
    "                            optimizer.step()\n",
    "                \n",
    "                \n",
    "                    preds[preds<0.5] = 0\n",
    "                    preds[preds>=0.5] = 1\n",
    "                    running_loss += loss.item()*labels.shape[0]\n",
    "                    running_acc += accuracy_score(labels, preds.detach())\n",
    "                    running_f1 += f1_score(labels, preds.detach())\n",
    "\n",
    "                if phase == 'train':\n",
    "                    scheduler.step()\n",
    "\n",
    "                epoch_loss = running_loss/len(data_loader[phase])\n",
    "                epoch_acc = running_acc/len(data_loader[phase])\n",
    "                epoch_f1 = running_f1/len(data_loader[phase])\n",
    "\n",
    "\n",
    "            if phase == 'val' and epoch_acc>best_acc[i_fold]:\n",
    "                best_acc[i_fold] = epoch_acc\n",
    "                best_model = copy.deepcopy(model.state_dict())\n",
    "            if phase == 'val' and epoch_f1>best_f1[i_fold]:\n",
    "                best_f1[i_fold] = epoch_f1\n",
    "\n",
    "        if verbose:\n",
    "            print('-'*40)\n",
    "            print('Best validation accuracy: {:.3f}, fold {}'.format(best_acc[i_fold], i_fold))\n",
    "        i_fold += 1\n",
    "\n",
    "    t = time.time()-start\n",
    "    print('-'*40)\n",
    "    print('Time to completion: {:.0f}min {:.0f}sec'.format(t//60, t%60))\n",
    "    print('Crossvalidation accuracy: mean = {:.4f}, std = {:.4f}'.format(np.mean(best_acc), np.std(best_acc)))\n",
    "    print('Crossvalidation f1 score: mean = {:.4f}, std = {:.4f}'.format(np.mean(best_f1), np.std(best_f1)))\n",
    "\n",
    "    return best_model"
   ]
  },
  {
   "cell_type": "code",
   "execution_count": 8,
   "metadata": {},
   "outputs": [],
   "source": [
    "class GospodinKlasifikator(nn.Module):\n",
    "\n",
    "  def __init__(self, num_classes):\n",
    "    super().__init__()\n",
    "\n",
    "    self.layer1 = nn.Linear(data.shape[1], 60)\n",
    "    self.layer2 = nn.Linear(60, 30)\n",
    "    self.relu = nn.LeakyReLU()\n",
    "    self.bn12 = nn.BatchNorm1d(60)\n",
    "    self.lastlayer = nn.Linear(30, num_classes)\n",
    "    self.dropout = nn.Dropout(0.5)\n",
    "\n",
    "  def forward(self, input):\n",
    "\n",
    "    out1 = self.layer1(input)\n",
    "    \n",
    "    out = self.relu(out1)\n",
    "    out = self.bn12(out)\n",
    "    out = self.dropout(out)\n",
    "    out = self.layer2(out)\n",
    "    \n",
    "    \n",
    "    out = self.relu(out)\n",
    "   # out = self.dropout(out)\n",
    "    #out = out.reshape(out.size(0), -1)\n",
    "    out = self.lastlayer(out)\n",
    "    out = torch.sigmoid(out)\n",
    "\n",
    "    return out"
   ]
  },
  {
   "cell_type": "code",
   "execution_count": 9,
   "metadata": {},
   "outputs": [],
   "source": [
    "num_epochs = 50\n",
    "num_classes = 2\n",
    "batch_size = 64\n",
    "learning_rate = 0.02\n",
    "n_folds = 7"
   ]
  },
  {
   "cell_type": "markdown",
   "metadata": {},
   "source": [
    "# Modelling"
   ]
  },
  {
   "cell_type": "code",
   "execution_count": 10,
   "metadata": {},
   "outputs": [
    {
     "name": "stdout",
     "output_type": "stream",
     "text": [
      "----------------------------------------\n",
      "Time to completion: 0min 34sec\n",
      "Crossvalidation accuracy: mean = 0.6384, std = 0.0254\n",
      "Crossvalidation f1 score: mean = 0.7742, std = 0.0200\n",
      "----------------------------------------\n",
      "Time to completion: 0min 31sec\n",
      "Crossvalidation accuracy: mean = 0.6405, std = 0.0163\n",
      "Crossvalidation f1 score: mean = 0.7730, std = 0.0118\n",
      "----------------------------------------\n",
      "Time to completion: 0min 35sec\n",
      "Crossvalidation accuracy: mean = 0.6705, std = 0.0171\n",
      "Crossvalidation f1 score: mean = 0.7989, std = 0.0113\n",
      "----------------------------------------\n",
      "Time to completion: 0min 33sec\n",
      "Crossvalidation accuracy: mean = 0.7105, std = 0.0179\n",
      "Crossvalidation f1 score: mean = 0.8261, std = 0.0114\n"
     ]
    }
   ],
   "source": [
    "for c in ['Valence', 'Arousal', 'Dominance', 'Liking']:\n",
    "    \n",
    "    if c == 'Valence':\n",
    "        data = normalize(feats_val, axis=0)\n",
    "    elif c == 'Arousal':\n",
    "        data = normalize(feats_ar, axis=0)\n",
    "    elif c == 'Dominance':\n",
    "        data = normalize(feats_dom, axis=0)\n",
    "    elif c == 'Liking':\n",
    "        data = normalize(feats_lik, axis=0)\n",
    "\n",
    "    x_train, x_test, y_train, y_test = train_test_split(data, targets[c], test_size=0.2)\n",
    "    best_model = crossval_train(x_train, y_train, num_epochs, learning_rate, batch_size, num_classes, n_folds, False)\n",
    "    "
   ]
  },
  {
   "cell_type": "markdown",
   "metadata": {},
   "source": []
  }
 ],
 "metadata": {
  "kernelspec": {
   "display_name": "Python 3 (ipykernel)",
   "language": "python",
   "name": "python3"
  },
  "language_info": {
   "codemirror_mode": {
    "name": "ipython",
    "version": 3
   },
   "file_extension": ".py",
   "mimetype": "text/x-python",
   "name": "python",
   "nbconvert_exporter": "python",
   "pygments_lexer": "ipython3",
   "version": "3.11.5"
  }
 },
 "nbformat": 4,
 "nbformat_minor": 2
}
