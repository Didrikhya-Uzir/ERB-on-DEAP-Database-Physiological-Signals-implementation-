{
 "cells": [
  {
   "cell_type": "code",
   "execution_count": 1,
   "metadata": {},
   "outputs": [],
   "source": [
    "import numpy as np\n",
    "import pandas as pd\n",
    "import matplotlib.pyplot as plt\n",
    "from sklearn.metrics import accuracy_score, f1_score\n",
    "from sklearn.model_selection import train_test_split\n",
    "import catboost\n",
    "from catboost import EShapCalcType, EFeaturesSelectionAlgorithm"
   ]
  },
  {
   "cell_type": "code",
   "execution_count": 2,
   "metadata": {},
   "outputs": [],
   "source": [
    "features = pd.read_csv('all_features.csv', index_col=0)\n",
    "targets = pd.read_csv('za_klasifikaciju.csv', index_col=0)\n",
    "\n",
    "targets = targets[['Valence', 'Arousal', 'Dominance', 'Liking']]\n",
    "targets[targets < 4.5] = 0\n",
    "targets[targets >= 4.5] = 1"
   ]
  },
  {
   "cell_type": "code",
   "execution_count": 7,
   "metadata": {},
   "outputs": [],
   "source": [
    "features.isna().sum().sum()\n",
    "features.fillna(0, inplace=True)"
   ]
  },
  {
   "cell_type": "code",
   "execution_count": 12,
   "metadata": {},
   "outputs": [],
   "source": [
    "x_train, x_test, y_train, y_test = train_test_split(features, targets['Valence'], test_size=0.3)"
   ]
  },
  {
   "cell_type": "code",
   "execution_count": 13,
   "metadata": {},
   "outputs": [
    {
     "data": {
      "text/plain": [
       "1489"
      ]
     },
     "execution_count": 13,
     "metadata": {},
     "output_type": "execute_result"
    }
   ],
   "source": [
    "len(features.columns)"
   ]
  },
  {
   "cell_type": "code",
   "execution_count": 26,
   "metadata": {},
   "outputs": [],
   "source": [
    "def find_n_best(features, c, n_features=50):\n",
    "    x_train, x_test, y_train, y_test = train_test_split(features, targets[c], test_size=0.3)\n",
    "\n",
    "    train_pool = catboost.Pool(data=x_train, label=y_train)\n",
    "    test_pool = catboost.Pool(data=x_test, label=y_test)\n",
    "\n",
    "    cat_params = {\n",
    "        'loss_function':'Logloss',\n",
    "        'eval_metric':'F1',\n",
    "        'learning_rate':0.001,\n",
    "        'depth':5,\n",
    "        'subsample': 0.8\n",
    "    }\n",
    "\n",
    "    model = catboost.CatBoostClassifier(\n",
    "        num_boost_round=5000,\n",
    "        early_stopping_rounds=15\n",
    "    )\n",
    "\n",
    "\n",
    "    summary = model.select_features(\n",
    "        train_pool,\n",
    "        eval_set=test_pool,\n",
    "        features_for_select='0-1488',\n",
    "        num_features_to_select=50,\n",
    "        steps=3,\n",
    "        algorithm=EFeaturesSelectionAlgorithm.RecursiveByShapValues,\n",
    "        shap_calc_type=EShapCalcType.Regular,\n",
    "        train_final_model=True,\n",
    "        logging_level='Silent',\n",
    "        plot=False\n",
    "    )\n",
    "    return summary['selected_features_names']"
   ]
  },
  {
   "cell_type": "code",
   "execution_count": 19,
   "metadata": {},
   "outputs": [
    {
     "data": {
      "text/plain": [
       "dict_keys(['selected_features', 'eliminated_features_names', 'eliminated_features', 'selected_features_names'])"
      ]
     },
     "execution_count": 19,
     "metadata": {},
     "output_type": "execute_result"
    }
   ],
   "source": [
    "summary.keys()"
   ]
  },
  {
   "cell_type": "code",
   "execution_count": 31,
   "metadata": {},
   "outputs": [
    {
     "name": "stdout",
     "output_type": "stream",
     "text": [
      "Stopped by overfitting detector  (15 iterations wait)\n",
      "Valence: test F1 mean = 0.775064817587701, std = 0.002949963887987618\n",
      "Stopped by overfitting detector  (15 iterations wait)\n",
      "Arousal: test F1 mean = 0.779790896307484, std = 0.0015909335084335135\n",
      "Stopped by overfitting detector  (15 iterations wait)\n",
      "Dominance: test F1 mean = 0.8035778943302516, std = 0.0038008260569480953\n",
      "Stopped by overfitting detector  (15 iterations wait)\n",
      "Liking: test F1 mean = 0.8210360129714968, std = 0.001601198792484367\n"
     ]
    }
   ],
   "source": [
    "cat_params = {\n",
    "    'loss_function':'Logloss',\n",
    "    'eval_metric':'F1',\n",
    "    'learning_rate':0.001,\n",
    "    'depth':5,\n",
    "    'subsample': 0.8\n",
    "}\n",
    "\n",
    "for c in ['Valence', 'Arousal', 'Dominance', 'Liking']:\n",
    "\n",
    "    feats_c = find_n_best(features, c, 200)\n",
    "    cat_crossval = catboost.Pool(data=features[feats_c], label=targets[c])\n",
    "\n",
    "    cat_cv = catboost.cv(pool=cat_crossval,\n",
    "                        params=cat_params,\n",
    "                        num_boost_round=5000,\n",
    "                        nfold=10,\n",
    "                        verbose_eval=0,\n",
    "                        early_stopping_rounds=15\n",
    "                        )\n",
    "    ind_max = np.argmax(cat_cv['test-F1-mean'])\n",
    "    print(f'{c}: test F1 mean = {cat_cv.loc[ind_max, \"test-F1-mean\"]}, std = {cat_cv.loc[ind_max, \"test-F1-std\"]}')"
   ]
  },
  {
   "cell_type": "code",
   "execution_count": 30,
   "metadata": {},
   "outputs": [
    {
     "name": "stderr",
     "output_type": "stream",
     "text": [
      "Custom logger is already specified. Specify more than one logger at same time is not thread safe."
     ]
    },
    {
     "name": "stdout",
     "output_type": "stream",
     "text": [
      "Stopped by overfitting detector  (15 iterations wait)\n",
      "Valence: test Accuracy mean = 0.6328156473173412, std = 0.004557253919327737\n",
      "Stopped by overfitting detector  (15 iterations wait)\n",
      "Arousal: test Accuracy mean = 0.6421970850119025, std = 0.010403661531627728\n",
      "Stopped by overfitting detector  (15 iterations wait)\n",
      "Dominance: test Accuracy mean = 0.6718528257187326, std = 0.008005929215926811\n",
      "Stopped by overfitting detector  (15 iterations wait)\n",
      "Liking: test Accuracy mean = 0.6953125, std = 0.0\n"
     ]
    }
   ],
   "source": [
    "cat_params = {\n",
    "    'loss_function':'Logloss',\n",
    "    'eval_metric':'Accuracy',\n",
    "    'learning_rate':0.001,\n",
    "    'depth':5,\n",
    "    'subsample': 0.8\n",
    "}\n",
    "\n",
    "for c in ['Valence', 'Arousal', 'Dominance', 'Liking']:\n",
    "\n",
    "    feats_c = find_n_best(features, c, 200)\n",
    "    cat_crossval = catboost.Pool(data=features[feats_c], label=targets[c])\n",
    "\n",
    "    cat_cv = catboost.cv(pool=cat_crossval,\n",
    "                        params=cat_params,\n",
    "                        num_boost_round=5000,\n",
    "                        nfold=10,\n",
    "                        verbose_eval=0,\n",
    "                        early_stopping_rounds=15\n",
    "                        )\n",
    "    ind_max = np.argmax(cat_cv['test-Accuracy-mean'])\n",
    "    print(f'{c}: test Accuracy mean = {cat_cv.loc[ind_max, \"test-Accuracy-mean\"]}, std = {cat_cv.loc[ind_max, \"test-Accuracy-std\"]}')"
   ]
  },
  {
   "cell_type": "code",
   "execution_count": null,
   "metadata": {},
   "outputs": [],
   "source": []
  }
 ],
 "metadata": {
  "interpreter": {
   "hash": "1c08fbfe57ae6755a1ca5884fd5e3be2f7f12a42ce6bb14b1db8b131357451c6"
  },
  "kernelspec": {
   "display_name": "Python 3 (ipykernel)",
   "language": "python",
   "name": "python3"
  },
  "language_info": {
   "codemirror_mode": {
    "name": "ipython",
    "version": 3
   },
   "file_extension": ".py",
   "mimetype": "text/x-python",
   "name": "python",
   "nbconvert_exporter": "python",
   "pygments_lexer": "ipython3",
   "version": "3.11.5"
  }
 },
 "nbformat": 4,
 "nbformat_minor": 2
}
